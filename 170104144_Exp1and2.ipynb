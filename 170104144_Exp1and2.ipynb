{
  "nbformat": 4,
  "nbformat_minor": 0,
  "metadata": {
    "accelerator": "GPU",
    "colab": {
      "name": "170104144_Exp1and2.ipynb",
      "provenance": []
    },
    "kernelspec": {
      "display_name": "Python 3",
      "name": "python3"
    },
    "language_info": {
      "name": "python"
    }
  },
  "cells": [
    {
      "cell_type": "code",
      "metadata": {
        "id": "1hen4ojHzI1O"
      },
      "source": [
        "import numpy as np\n",
        "import pandas as pd\n",
        "import torch\n",
        "import torch.nn as nn\n",
        "import torch.nn.functional as F\n",
        "import torch.optim as optim\n",
        "from torch.utils.data import Dataset\n",
        "from torch.utils.data.sampler import SubsetRandomSampler\n",
        "import matplotlib\n",
        "import matplotlib.pyplot as plt\n",
        "from PIL import Image\n",
        "from torchvision import datasets, transforms, models\n",
        "from torch.autograd import Variable\n",
        "from zipfile import ZipFile\n",
        "import os\n",
        "from os import path\n",
        "import shutil"
      ],
      "execution_count": 1,
      "outputs": []
    },
    {
      "cell_type": "code",
      "metadata": {
        "id": "Q_4G6XUSzLt6"
      },
      "source": [
        "from google.colab import drive"
      ],
      "execution_count": 2,
      "outputs": []
    },
    {
      "cell_type": "code",
      "metadata": {
        "colab": {
          "base_uri": "https://localhost:8080/"
        },
        "id": "mILHAHnczPlL",
        "outputId": "ad279501-f3ad-4f55-d8b3-a599edca7a5b"
      },
      "source": [
        "drive.mount('/content/drive')\n"
      ],
      "execution_count": 3,
      "outputs": [
        {
          "output_type": "stream",
          "name": "stdout",
          "text": [
            "Mounted at /content/drive\n"
          ]
        }
      ]
    },
    {
      "cell_type": "code",
      "metadata": {
        "id": "RManlEUee0_s"
      },
      "source": [
        "url = '/content/drive/MyDrive/Dataset/'"
      ],
      "execution_count": 4,
      "outputs": []
    },
    {
      "cell_type": "code",
      "metadata": {
        "id": "HC1Mh0lIGogh"
      },
      "source": [
        "dataset_A = url + 'Dataset A.zip'\n",
        "with ZipFile(dataset_A, 'r') as zip:\n",
        "  zip.extractall()"
      ],
      "execution_count": 5,
      "outputs": []
    },
    {
      "cell_type": "code",
      "metadata": {
        "id": "nAXsoslKhTrm"
      },
      "source": [
        "import pandas as pd\n",
        "data_labels = pd.read_csv('/content/training-a.csv', usecols = ['filename', 'digit'])"
      ],
      "execution_count": 6,
      "outputs": []
    },
    {
      "cell_type": "code",
      "metadata": {
        "colab": {
          "base_uri": "https://localhost:8080/",
          "height": 220
        },
        "id": "m1wyA-zK0gbL",
        "outputId": "0ae3afe6-830e-41b9-99ff-714879bb6b1c"
      },
      "source": [
        "print(data_labels.shape)\n",
        "data_labels.head()"
      ],
      "execution_count": 7,
      "outputs": [
        {
          "output_type": "stream",
          "name": "stdout",
          "text": [
            "(19702, 2)\n"
          ]
        },
        {
          "output_type": "execute_result",
          "data": {
            "text/html": [
              "<div>\n",
              "<style scoped>\n",
              "    .dataframe tbody tr th:only-of-type {\n",
              "        vertical-align: middle;\n",
              "    }\n",
              "\n",
              "    .dataframe tbody tr th {\n",
              "        vertical-align: top;\n",
              "    }\n",
              "\n",
              "    .dataframe thead th {\n",
              "        text-align: right;\n",
              "    }\n",
              "</style>\n",
              "<table border=\"1\" class=\"dataframe\">\n",
              "  <thead>\n",
              "    <tr style=\"text-align: right;\">\n",
              "      <th></th>\n",
              "      <th>filename</th>\n",
              "      <th>digit</th>\n",
              "    </tr>\n",
              "  </thead>\n",
              "  <tbody>\n",
              "    <tr>\n",
              "      <th>0</th>\n",
              "      <td>a00000.png</td>\n",
              "      <td>5</td>\n",
              "    </tr>\n",
              "    <tr>\n",
              "      <th>1</th>\n",
              "      <td>a00001.png</td>\n",
              "      <td>3</td>\n",
              "    </tr>\n",
              "    <tr>\n",
              "      <th>2</th>\n",
              "      <td>a00002.png</td>\n",
              "      <td>1</td>\n",
              "    </tr>\n",
              "    <tr>\n",
              "      <th>3</th>\n",
              "      <td>a00003.png</td>\n",
              "      <td>7</td>\n",
              "    </tr>\n",
              "    <tr>\n",
              "      <th>4</th>\n",
              "      <td>a00004.png</td>\n",
              "      <td>0</td>\n",
              "    </tr>\n",
              "  </tbody>\n",
              "</table>\n",
              "</div>"
            ],
            "text/plain": [
              "     filename  digit\n",
              "0  a00000.png      5\n",
              "1  a00001.png      3\n",
              "2  a00002.png      1\n",
              "3  a00003.png      7\n",
              "4  a00004.png      0"
            ]
          },
          "metadata": {},
          "execution_count": 7
        }
      ]
    },
    {
      "cell_type": "code",
      "metadata": {
        "id": "OyoEziLj0uFW"
      },
      "source": [
        "PATH = '/content/'"
      ],
      "execution_count": null,
      "outputs": []
    },
    {
      "cell_type": "code",
      "metadata": {
        "id": "0Sm-frOr0jQF"
      },
      "source": [
        "TRAIN_PATH = url + 'Train_2'\n",
        "os.mkdir(TRAIN_PATH)\n",
        "\n",
        "def processImages(folder_name):\n",
        "  src = PATH + folder_name + '/'\n",
        "  dir_folders = os.listdir(src)\n",
        "  for dir_name in dir_folders:\n",
        "    file_name = os.path.join(src, dir_name)\n",
        "    if os.path.isfile(file_name):\n",
        "      shutil.copy(file_name, TRAIN_PATH) \n",
        "\n",
        "processImages('training-a')"
      ],
      "execution_count": null,
      "outputs": []
    },
    {
      "cell_type": "code",
      "metadata": {
        "id": "J4l1Divk0nLy"
      },
      "source": [
        "class Dataset(Dataset):\n",
        "    def __init__(self, df, root, transform=None):\n",
        "        self.data = df\n",
        "        self.root = root\n",
        "        self.transform = transform\n",
        "        \n",
        "    def __len__(self):\n",
        "        return len(self.data)\n",
        "    \n",
        "    def __getitem__(self, index):\n",
        "        item = self.data.iloc[index]\n",
        "        \n",
        "        path = self.root + \"/\" + item[0]\n",
        "        image = Image.open(path).convert('L')\n",
        "        label = item[1]\n",
        "        \n",
        "        if self.transform is not None:\n",
        "            image = self.transform(image)\n",
        "            \n",
        "        return image, label"
      ],
      "execution_count": null,
      "outputs": []
    },
    {
      "cell_type": "code",
      "metadata": {
        "colab": {
          "base_uri": "https://localhost:8080/"
        },
        "id": "CRegpB521eKq",
        "outputId": "45068b96-911f-4d7c-8608-da3eb263ced4"
      },
      "source": [
        "mean = [0.5,]\n",
        "std = [0.5, ]\n",
        "\n",
        "train_transform = transforms.Compose([\n",
        "    transforms.Resize(28),\n",
        "    transforms.ToTensor(),\n",
        "    transforms.Normalize(mean, std)\n",
        "])\n",
        "\n",
        "test_transform = transforms.Compose([\n",
        "        transforms.Resize(28),\n",
        "        transforms.ToTensor(),\n",
        "        transforms.Normalize(mean, std)\n",
        "])\n",
        "\n",
        "train_data  = Dataset(data_labels, TRAIN_PATH, train_transform)\n",
        "test_data = Dataset(data_labels, TRAIN_PATH, test_transform)\n",
        "\n",
        "print(\"Trainig Samples: \", len(train_data))"
      ],
      "execution_count": null,
      "outputs": [
        {
          "output_type": "stream",
          "name": "stdout",
          "text": [
            "Trainig Samples:  19702\n"
          ]
        }
      ]
    },
    {
      "cell_type": "markdown",
      "metadata": {
        "id": "6Tw2rD1r-9fE"
      },
      "source": [
        "# **Experminent1**"
      ]
    },
    {
      "cell_type": "code",
      "metadata": {
        "colab": {
          "base_uri": "https://localhost:8080/"
        },
        "id": "xnaM3GMR1kD8",
        "outputId": "986795ca-236e-41fe-9978-1729df9cb083"
      },
      "source": [
        "#Batch Parameters\n",
        "batch_size = 20\n",
        "num_iters = 20000\n",
        "input_dim = 28*28\n",
        "num_hidden = 200\n",
        "output_dim = 10\n",
        "\n",
        "learning_rate = 0.01\n",
        "\n",
        "num_epochs = num_iters / (len(train_data) / batch_size)\n",
        "num_epochs = int(num_epochs)\n",
        "print(num_epochs)\n",
        "\n",
        "device = torch.device(\"cuda:0\" if torch.cuda.is_available() else \"cpu\")"
      ],
      "execution_count": null,
      "outputs": [
        {
          "output_type": "stream",
          "name": "stdout",
          "text": [
            "20\n"
          ]
        }
      ]
    },
    {
      "cell_type": "code",
      "metadata": {
        "colab": {
          "base_uri": "https://localhost:8080/"
        },
        "id": "LRkXaL-B1-3o",
        "outputId": "a3c73f8e-3123-48fe-c1f1-de5aa91903fc"
      },
      "source": [
        "test_size = 0.2\n",
        "num_train = len(train_data)\n",
        "indices = list(range(num_train))\n",
        "np.random.shuffle(indices)\n",
        "split = int(np.floor(test_size * num_train))\n",
        "train_idx, test_idx = indices[split:], indices[:split]\n",
        "\n",
        "train_sampler = SubsetRandomSampler(train_idx)\n",
        "test_sampler = SubsetRandomSampler(test_idx)\n",
        "\n",
        "train_loader = torch.utils.data.DataLoader(\n",
        "    train_data, batch_size=batch_size,\n",
        "    sampler=train_sampler)\n",
        "\n",
        "test_loader = torch.utils.data.DataLoader(\n",
        "    test_data, batch_size=batch_size,\n",
        "    sampler=test_sampler)\n",
        "\n",
        "print(\"Train dataloader:{}\".format(len(train_loader)))\n",
        "print(\"Test dataloader:{}\".format(len(test_loader)))"
      ],
      "execution_count": null,
      "outputs": [
        {
          "output_type": "stream",
          "name": "stdout",
          "text": [
            "Train dataloader:789\n",
            "Test dataloader:197\n"
          ]
        }
      ]
    },
    {
      "cell_type": "code",
      "metadata": {
        "id": "UwpfgDiP2Ckx"
      },
      "source": [
        "class DeepNeuralNetworkModel(nn.Module):\n",
        "    def __init__(self, input_size, num_classes, num_hidden):\n",
        "        super().__init__()\n",
        "\n",
        "       #First Hidden Layer\n",
        "        self.linear_1 = nn.Linear(input_size, num_hidden)\n",
        "        self.relu_1 = nn.ReLU()\n",
        "\n",
        "        #2nd Hidden Layer\n",
        "        self.linear_2 = nn.Linear(num_hidden, num_hidden)\n",
        "        self.relu_2 = nn.ReLU()\n",
        "\n",
        "         #3rd Hidden Layer\n",
        "        self.linear_3 = nn.Linear(num_hidden, num_hidden)\n",
        "        self.relu_3 = nn.ReLU()\n",
        "\n",
        "         #4th Hidden Layer\n",
        "        self.linear_4 = nn.Linear(num_hidden, num_hidden)\n",
        "        self.relu_4 = nn.ReLU()\n",
        "\n",
        "         #5th Hidden Layer\n",
        "        self.linear_5= nn.Linear(num_hidden, num_hidden)\n",
        "        self.relu_5= nn.ReLU()\n",
        "        \n",
        "        #6th Hidden Layer\n",
        "        self.linear_6 = nn.Linear(num_hidden, num_hidden)\n",
        "        self.relu_6 = nn.ReLU()\n",
        " \n",
        "        self.linear_out = nn.Linear(num_hidden, num_classes)\n",
        " \n",
        "    def forward(self, x):\n",
        "        out  = self.linear_1(x)\n",
        "        out = self.relu_1(out)\n",
        "        \n",
        "        out  = self.linear_2(out)\n",
        "        out = self.relu_2(out)\n",
        " \n",
        "        out  = self.linear_3(out)\n",
        "        out = self.relu_3(out)\n",
        " \n",
        "        out  = self.linear_4(out)\n",
        "        out = self.relu_4(out)\n",
        " \n",
        "        out  = self.linear_5(out)\n",
        "        out = self.relu_5(out)\n",
        " \n",
        "        out  = self.linear_6(out)\n",
        "        out = self.relu_6(out)\n",
        "        \n",
        "        probas  = self.linear_out(out)\n",
        "        return probas"
      ],
      "execution_count": null,
      "outputs": []
    },
    {
      "cell_type": "code",
      "metadata": {
        "colab": {
          "base_uri": "https://localhost:8080/"
        },
        "id": "u3Zyo5R82JMA",
        "outputId": "0993e949-1c45-4fbe-b07a-6391c586d93c"
      },
      "source": [
        "model = DeepNeuralNetworkModel(input_size = input_dim, num_classes = output_dim, num_hidden = num_hidden)\n",
        "\n",
        "model.to(device)"
      ],
      "execution_count": null,
      "outputs": [
        {
          "output_type": "execute_result",
          "data": {
            "text/plain": [
              "DeepNeuralNetworkModel(\n",
              "  (linear_1): Linear(in_features=784, out_features=200, bias=True)\n",
              "  (relu_1): ReLU()\n",
              "  (linear_2): Linear(in_features=200, out_features=200, bias=True)\n",
              "  (relu_2): ReLU()\n",
              "  (linear_3): Linear(in_features=200, out_features=200, bias=True)\n",
              "  (relu_3): ReLU()\n",
              "  (linear_4): Linear(in_features=200, out_features=200, bias=True)\n",
              "  (relu_4): ReLU()\n",
              "  (linear_5): Linear(in_features=200, out_features=200, bias=True)\n",
              "  (relu_5): ReLU()\n",
              "  (linear_6): Linear(in_features=200, out_features=200, bias=True)\n",
              "  (relu_6): ReLU()\n",
              "  (linear_out): Linear(in_features=200, out_features=10, bias=True)\n",
              ")"
            ]
          },
          "metadata": {},
          "execution_count": 29
        }
      ]
    },
    {
      "cell_type": "code",
      "metadata": {
        "id": "GLr4P55j2MaT"
      },
      "source": [
        "criterion = nn.CrossEntropyLoss()\n",
        "optimizer = torch.optim.SGD(model.parameters(), lr = learning_rate)"
      ],
      "execution_count": null,
      "outputs": []
    },
    {
      "cell_type": "code",
      "metadata": {
        "colab": {
          "base_uri": "https://localhost:8080/"
        },
        "id": "dwuklbdV2PRg",
        "outputId": "d25a8dc4-e037-40f3-e56d-25b3d797273f"
      },
      "source": [
        "iteration_loss = []\n",
        "iter = 0\n",
        "for epoch in range(num_epochs):\n",
        "    print('Epoch: ', epoch + 1)\n",
        "    for i, (images, labels) in enumerate(train_loader):\n",
        "\n",
        "        images = images.view(-1, 28*28).to(device)\n",
        "        labels = labels.to(device)\n",
        "\n",
        "        optimizer.zero_grad()\n",
        "\n",
        "        outputs = model(images) \n",
        "\n",
        "        loss = criterion(outputs, labels)\n",
        "\n",
        "        loss.backward()\n",
        "\n",
        "        optimizer.step()\n",
        "\n",
        "        iter += 1\n",
        "\n",
        "        if iter % 500 == 0:        \n",
        "            correct = 0\n",
        "            total = 0\n",
        "            for images, labels in test_loader:\n",
        "               \n",
        "                images = images.view(-1, 28*28).to(device)\n",
        "\n",
        "                outputs = model(images)\n",
        "\n",
        "                _, predicted = torch.max(outputs, 1)\n",
        "\n",
        "                total += labels.size(0)\n",
        "\n",
        "                if torch.cuda.is_available():\n",
        "                    correct += (predicted.cpu() == labels.cpu()).sum() \n",
        "                else:\n",
        "                    correct += (predicted == labels).sum()\n",
        "\n",
        "            accuracy = 100 * correct.item() / total\n",
        "\n",
        "            iteration_loss.append(loss.item())\n",
        "            print('Iteration: {}. Loss: {}. Accuracy: {}'.format(iter, loss.item(), accuracy))"
      ],
      "execution_count": null,
      "outputs": [
        {
          "output_type": "stream",
          "name": "stdout",
          "text": [
            "Epoch:  1\n",
            "Iteration: 500. Loss: 2.302762508392334. Accuracy: 8.98477157360406\n",
            "Epoch:  2\n",
            "Iteration: 1000. Loss: 2.3043053150177. Accuracy: 9.67005076142132\n",
            "Iteration: 1500. Loss: 2.3087687492370605. Accuracy: 8.98477157360406\n",
            "Epoch:  3\n",
            "Iteration: 2000. Loss: 2.3102004528045654. Accuracy: 8.98477157360406\n",
            "Epoch:  4\n",
            "Iteration: 2500. Loss: 2.2990500926971436. Accuracy: 9.898477157360405\n",
            "Iteration: 3000. Loss: 2.30330228805542. Accuracy: 8.98477157360406\n",
            "Epoch:  5\n",
            "Iteration: 3500. Loss: 2.2998874187469482. Accuracy: 10.025380710659899\n",
            "Epoch:  6\n",
            "Iteration: 4000. Loss: 2.3004205226898193. Accuracy: 9.923857868020304\n",
            "Iteration: 4500. Loss: 2.303591251373291. Accuracy: 9.949238578680204\n",
            "Epoch:  7\n",
            "Iteration: 5000. Loss: 2.298076629638672. Accuracy: 9.898477157360405\n",
            "Iteration: 5500. Loss: 2.2990827560424805. Accuracy: 8.98477157360406\n",
            "Epoch:  8\n",
            "Iteration: 6000. Loss: 2.2984137535095215. Accuracy: 8.98477157360406\n",
            "Epoch:  9\n",
            "Iteration: 6500. Loss: 2.2997186183929443. Accuracy: 9.949238578680204\n",
            "Iteration: 7000. Loss: 2.2966055870056152. Accuracy: 13.451776649746193\n",
            "Epoch:  10\n",
            "Iteration: 7500. Loss: 2.306957721710205. Accuracy: 9.949238578680204\n",
            "Epoch:  11\n",
            "Iteration: 8000. Loss: 2.2909510135650635. Accuracy: 14.898477157360405\n",
            "Iteration: 8500. Loss: 2.2838661670684814. Accuracy: 9.873096446700508\n",
            "Epoch:  12\n",
            "Iteration: 9000. Loss: 2.2999370098114014. Accuracy: 10.558375634517766\n",
            "Epoch:  13\n",
            "Iteration: 9500. Loss: 2.289487361907959. Accuracy: 15.076142131979696\n",
            "Iteration: 10000. Loss: 2.2797367572784424. Accuracy: 10.355329949238579\n",
            "Epoch:  14\n",
            "Iteration: 10500. Loss: 2.256779432296753. Accuracy: 10.812182741116752\n",
            "Iteration: 11000. Loss: 2.255619764328003. Accuracy: 19.263959390862944\n",
            "Epoch:  15\n",
            "Iteration: 11500. Loss: 2.273759365081787. Accuracy: 19.67005076142132\n",
            "Epoch:  16\n",
            "Iteration: 12000. Loss: 2.1960830688476562. Accuracy: 19.01015228426396\n",
            "Iteration: 12500. Loss: 2.1441211700439453. Accuracy: 21.700507614213198\n",
            "Epoch:  17\n",
            "Iteration: 13000. Loss: 2.1384050846099854. Accuracy: 20.685279187817258\n",
            "Epoch:  18\n",
            "Iteration: 13500. Loss: 2.0944061279296875. Accuracy: 22.20812182741117\n",
            "Iteration: 14000. Loss: 2.819862127304077. Accuracy: 11.49746192893401\n",
            "Epoch:  19\n",
            "Iteration: 14500. Loss: 2.260526180267334. Accuracy: 17.614213197969544\n",
            "Epoch:  20\n",
            "Iteration: 15000. Loss: 2.09901762008667. Accuracy: 22.893401015228427\n",
            "Iteration: 15500. Loss: 1.889609932899475. Accuracy: 22.715736040609137\n"
          ]
        }
      ]
    },
    {
      "cell_type": "code",
      "metadata": {
        "id": "bpJEfY9d2S4V"
      },
      "source": [
        "torch.save(model.state_dict(), '/content/drive/MyDrive/google colab/Assignment-2/model_base.pkl')\n"
      ],
      "execution_count": null,
      "outputs": []
    },
    {
      "cell_type": "code",
      "metadata": {
        "colab": {
          "base_uri": "https://localhost:8080/",
          "height": 317
        },
        "id": "Nn2Yu8FGALI8",
        "outputId": "39715572-3668-4d73-88ff-c7be77056b5b"
      },
      "source": [
        "print (iteration_loss)\n",
        "plt.plot(iteration_loss)\n",
        "plt.ylabel('Loss')\n",
        "plt.xlabel('Iteration')\n",
        "plt.show()"
      ],
      "execution_count": null,
      "outputs": [
        {
          "output_type": "stream",
          "name": "stdout",
          "text": [
            "[2.302762508392334, 2.3043053150177, 2.3087687492370605, 2.3102004528045654, 2.2990500926971436, 2.30330228805542, 2.2998874187469482, 2.3004205226898193, 2.303591251373291, 2.298076629638672, 2.2990827560424805, 2.2984137535095215, 2.2997186183929443, 2.2966055870056152, 2.306957721710205, 2.2909510135650635, 2.2838661670684814, 2.2999370098114014, 2.289487361907959, 2.2797367572784424, 2.256779432296753, 2.255619764328003, 2.273759365081787, 2.1960830688476562, 2.1441211700439453, 2.1384050846099854, 2.0944061279296875, 2.819862127304077, 2.260526180267334, 2.09901762008667, 1.889609932899475]\n"
          ]
        },
        {
          "output_type": "display_data",
          "data": {
            "image/png": "[encoded data removed]",
            "text/plain": [
              "<Figure size 432x288 with 1 Axes>"
            ]
          },
          "metadata": {
            "needs_background": "light"
          }
        }
      ]
    },
    {
      "cell_type": "code",
      "metadata": {
        "id": "kIWasz2YAMGr"
      },
      "source": [
        ""
      ],
      "execution_count": null,
      "outputs": []
    },
    {
      "cell_type": "markdown",
      "metadata": {
        "id": "lb_b9B6EAYmP"
      },
      "source": [
        "# **Experiment 2**"
      ]
    },
    {
      "cell_type": "code",
      "metadata": {
        "colab": {
          "base_uri": "https://localhost:8080/"
        },
        "id": "ZBKzg1IpAko9",
        "outputId": "4072ff8d-ae8f-44c6-8580-e4c14dbe5924"
      },
      "source": [
        "#Batch Parameters\n",
        "batch_size = 142\n",
        "num_iters = 20000\n",
        "input_dim = 28*28\n",
        "num_hidden = 220\n",
        "output_dim = 10\n",
        "\n",
        "learning_rate = 0.001\n",
        "\n",
        "num_epochs = num_iters / (len(train_data) / batch_size)\n",
        "num_epochs = int(num_epochs)\n",
        "print(num_epochs)\n",
        "\n",
        "device = torch.device(\"cuda:0\" if torch.cuda.is_available() else \"cpu\")"
      ],
      "execution_count": null,
      "outputs": [
        {
          "output_type": "stream",
          "name": "stdout",
          "text": [
            "144\n"
          ]
        }
      ]
    },
    {
      "cell_type": "code",
      "metadata": {
        "colab": {
          "base_uri": "https://localhost:8080/"
        },
        "id": "1zAeuK55CH8t",
        "outputId": "2c5df2af-1786-4c10-8bf1-2481d3b7e1ff"
      },
      "source": [
        "test_size = 0.2\n",
        "num_train = len(train_data)\n",
        "indices = list(range(num_train))\n",
        "np.random.shuffle(indices)\n",
        "split = int(np.floor(test_size * num_train))\n",
        "train_idx, test_idx = indices[split:], indices[:split]\n",
        "\n",
        "train_sampler = SubsetRandomSampler(train_idx)\n",
        "test_sampler = SubsetRandomSampler(test_idx)\n",
        "\n",
        "train_loader = torch.utils.data.DataLoader(\n",
        "    train_data, batch_size=batch_size,\n",
        "    sampler=train_sampler)\n",
        "\n",
        "test_loader = torch.utils.data.DataLoader(\n",
        "    test_data, batch_size=batch_size,\n",
        "    sampler=test_sampler)\n",
        "\n",
        "print(\"Train dataloader:{}\".format(len(train_loader)))\n",
        "print(\"Test dataloader:{}\".format(len(test_loader)))"
      ],
      "execution_count": null,
      "outputs": [
        {
          "output_type": "stream",
          "name": "stdout",
          "text": [
            "Train dataloader:111\n",
            "Test dataloader:28\n"
          ]
        }
      ]
    },
    {
      "cell_type": "code",
      "metadata": {
        "id": "q8W9e4T1CJ6F"
      },
      "source": [
        "class DeepNeuralNetworkModel(nn.Module):\n",
        "    def __init__(self, input_size, num_classes, num_hidden):\n",
        "        super().__init__()\n",
        "\n",
        "       #First Hidden Layer\n",
        "        self.linear_1 = nn.Linear(input_size, num_hidden)\n",
        "        self.relu_1 = nn.ReLU()\n",
        "\n",
        "        #2nd Hidden Layer\n",
        "        self.linear_2 = nn.Linear(num_hidden, num_hidden)\n",
        "        self.relu_2 = nn.Softmax(dim=0)\n",
        "\n",
        "         #3rd Hidden Layer\n",
        "        self.linear_3 = nn.Linear(num_hidden, num_hidden)\n",
        "        self.relu_3 = nn.ReLU()\n",
        "\n",
        "         #4th Hidden Layer\n",
        "        self.linear_4 = nn.Linear(num_hidden, num_hidden)\n",
        "        self.relu_4 = nn.ReLU()\n",
        "\n",
        "         \n",
        "\n",
        "  \n",
        " \n",
        "        self.linear_out = nn.Linear(num_hidden, num_classes)\n",
        " \n",
        "    def forward(self, x):\n",
        "        out  = self.linear_1(x)\n",
        "        out = self.relu_1(out)\n",
        "        \n",
        "        out  = self.linear_2(out)\n",
        "        out = self.relu_2(out)\n",
        " \n",
        "        out  = self.linear_3(out)\n",
        "        out = self.relu_3(out)\n",
        " \n",
        "        out  = self.linear_4(out)\n",
        "        out = self.relu_4(out)\n",
        " \n",
        "        \n",
        "        \n",
        "        probas  = self.linear_out(out)\n",
        "        return probas"
      ],
      "execution_count": null,
      "outputs": []
    },
    {
      "cell_type": "code",
      "metadata": {
        "colab": {
          "base_uri": "https://localhost:8080/"
        },
        "id": "uZn9wJWrTmkE",
        "outputId": "655ab4ca-6924-4bf9-c4e0-5ca370171a4b"
      },
      "source": [
        "model = DeepNeuralNetworkModel(input_size = input_dim, num_classes = output_dim, num_hidden = num_hidden)\n",
        "\n",
        "model.to(device)"
      ],
      "execution_count": null,
      "outputs": [
        {
          "output_type": "execute_result",
          "data": {
            "text/plain": [
              "DeepNeuralNetworkModel(\n",
              "  (linear_1): Linear(in_features=784, out_features=220, bias=True)\n",
              "  (relu_1): ReLU()\n",
              "  (linear_2): Linear(in_features=220, out_features=220, bias=True)\n",
              "  (relu_2): Softmax(dim=0)\n",
              "  (linear_3): Linear(in_features=220, out_features=220, bias=True)\n",
              "  (relu_3): ReLU()\n",
              "  (linear_4): Linear(in_features=220, out_features=220, bias=True)\n",
              "  (relu_4): ReLU()\n",
              "  (linear_out): Linear(in_features=220, out_features=10, bias=True)\n",
              ")"
            ]
          },
          "metadata": {},
          "execution_count": 20
        }
      ]
    },
    {
      "cell_type": "code",
      "metadata": {
        "id": "MAPcDAJtT5-Q"
      },
      "source": [
        "criterion = nn.CrossEntropyLoss()\n",
        "#optimizer = torch.optim.SGD(model.parameters(), lr = learning_rate)\n",
        "optimizer = torch.optim.Adam(model.parameters(), lr = learning_rate)"
      ],
      "execution_count": null,
      "outputs": []
    },
    {
      "cell_type": "code",
      "metadata": {
        "colab": {
          "base_uri": "https://localhost:8080/"
        },
        "id": "r3JQLXFgT7iq",
        "outputId": "3271a074-728d-4648-e56e-26c84c6eaa45"
      },
      "source": [
        "iteration_loss = []\n",
        "iter = 0\n",
        "for epoch in range(num_epochs):\n",
        "    print('Epoch: ', epoch + 1)\n",
        "    for i, (images, labels) in enumerate(train_loader):\n",
        "\n",
        "        images = images.view(-1, 28*28).to(device)\n",
        "        labels = labels.to(device)\n",
        "\n",
        "        optimizer.zero_grad()\n",
        "\n",
        "        outputs = model(images) \n",
        "\n",
        "        loss = criterion(outputs, labels)\n",
        "\n",
        "        loss.backward()\n",
        "\n",
        "        optimizer.step()\n",
        "\n",
        "        iter += 1\n",
        "\n",
        "        if iter % 500 == 0:        \n",
        "            correct = 0\n",
        "            total = 0\n",
        "            for images, labels in test_loader:\n",
        "               \n",
        "                images = images.view(-1, 28*28).to(device)\n",
        "\n",
        "                outputs = model(images)\n",
        "\n",
        "                _, predicted = torch.max(outputs, 1)\n",
        "\n",
        "                total += labels.size(0)\n",
        "\n",
        "                if torch.cuda.is_available():\n",
        "                    correct += (predicted.cpu() == labels.cpu()).sum() \n",
        "                else:\n",
        "                    correct += (predicted == labels).sum()\n",
        "\n",
        "            accuracy = 100 * correct.item() / total\n",
        "\n",
        "            iteration_loss.append(loss.item())\n",
        "            print('Iteration: {}. Loss: {}. Accuracy: {}'.format(iter, loss.item(), accuracy))"
      ],
      "execution_count": null,
      "outputs": [
        {
          "output_type": "stream",
          "name": "stdout",
          "text": [
            "Epoch:  1\n",
            "Epoch:  2\n",
            "Epoch:  3\n",
            "Epoch:  4\n",
            "Epoch:  5\n",
            "Iteration: 500. Loss: 1.3280398845672607. Accuracy: 44.59390862944162\n",
            "Epoch:  6\n",
            "Epoch:  7\n",
            "Epoch:  8\n",
            "Epoch:  9\n",
            "Epoch:  10\n",
            "Iteration: 1000. Loss: 0.7416069507598877. Accuracy: 68.98477157360406\n",
            "Epoch:  11\n",
            "Epoch:  12\n",
            "Epoch:  13\n",
            "Epoch:  14\n",
            "Iteration: 1500. Loss: 0.6250741481781006. Accuracy: 75.05076142131979\n",
            "Epoch:  15\n",
            "Epoch:  16\n",
            "Epoch:  17\n",
            "Epoch:  18\n",
            "Epoch:  19\n",
            "Iteration: 2000. Loss: 0.35897165536880493. Accuracy: 78.68020304568527\n",
            "Epoch:  20\n",
            "Epoch:  21\n",
            "Epoch:  22\n",
            "Epoch:  23\n",
            "Iteration: 2500. Loss: 0.29209837317466736. Accuracy: 84.08629441624366\n",
            "Epoch:  24\n",
            "Epoch:  25\n",
            "Epoch:  26\n",
            "Epoch:  27\n",
            "Epoch:  28\n",
            "Iteration: 3000. Loss: 0.30761244893074036. Accuracy: 86.21827411167513\n",
            "Epoch:  29\n",
            "Epoch:  30\n",
            "Epoch:  31\n",
            "Epoch:  32\n",
            "Iteration: 3500. Loss: 0.2073519229888916. Accuracy: 87.71573604060913\n",
            "Epoch:  33\n",
            "Epoch:  34\n",
            "Epoch:  35\n",
            "Epoch:  36\n",
            "Epoch:  37\n",
            "Iteration: 4000. Loss: 0.23233045637607574. Accuracy: 88.57868020304568\n",
            "Epoch:  38\n",
            "Epoch:  39\n",
            "Epoch:  40\n",
            "Epoch:  41\n",
            "Iteration: 4500. Loss: 0.14154432713985443. Accuracy: 89.03553299492386\n",
            "Epoch:  42\n",
            "Epoch:  43\n",
            "Epoch:  44\n",
            "Epoch:  45\n",
            "Epoch:  46\n",
            "Iteration: 5000. Loss: 0.13551421463489532. Accuracy: 88.70558375634518\n",
            "Epoch:  47\n",
            "Epoch:  48\n",
            "Epoch:  49\n",
            "Epoch:  50\n",
            "Iteration: 5500. Loss: 0.07751485705375671. Accuracy: 88.75634517766497\n",
            "Epoch:  51\n",
            "Epoch:  52\n",
            "Epoch:  53\n",
            "Epoch:  54\n",
            "Epoch:  55\n",
            "Iteration: 6000. Loss: 0.047529187053442. Accuracy: 89.46700507614213\n",
            "Epoch:  56\n",
            "Epoch:  57\n",
            "Epoch:  58\n",
            "Epoch:  59\n",
            "Iteration: 6500. Loss: 0.06583356112241745. Accuracy: 89.31472081218274\n",
            "Epoch:  60\n",
            "Epoch:  61\n",
            "Epoch:  62\n",
            "Epoch:  63\n",
            "Epoch:  64\n",
            "Iteration: 7000. Loss: 0.07352792471647263. Accuracy: 89.67005076142132\n",
            "Epoch:  65\n",
            "Epoch:  66\n",
            "Epoch:  67\n",
            "Epoch:  68\n",
            "Iteration: 7500. Loss: 0.04051690548658371. Accuracy: 90.0761421319797\n",
            "Epoch:  69\n",
            "Epoch:  70\n",
            "Epoch:  71\n",
            "Epoch:  72\n",
            "Epoch:  73\n",
            "Iteration: 8000. Loss: 0.04896106943488121. Accuracy: 89.84771573604061\n",
            "Epoch:  74\n",
            "Epoch:  75\n",
            "Epoch:  76\n",
            "Epoch:  77\n",
            "Iteration: 8500. Loss: 0.11944548040628433. Accuracy: 90.05076142131979\n",
            "Epoch:  78\n",
            "Epoch:  79\n",
            "Epoch:  80\n",
            "Epoch:  81\n",
            "Epoch:  82\n",
            "Iteration: 9000. Loss: 0.05169488117098808. Accuracy: 90.17766497461929\n",
            "Epoch:  83\n",
            "Epoch:  84\n",
            "Epoch:  85\n",
            "Epoch:  86\n",
            "Iteration: 9500. Loss: 0.018993869423866272. Accuracy: 90.63451776649747\n",
            "Epoch:  87\n",
            "Epoch:  88\n",
            "Epoch:  89\n",
            "Epoch:  90\n",
            "Epoch:  91\n",
            "Iteration: 10000. Loss: 0.006535348016768694. Accuracy: 90.88832487309645\n",
            "Epoch:  92\n",
            "Epoch:  93\n",
            "Epoch:  94\n",
            "Epoch:  95\n",
            "Iteration: 10500. Loss: 0.016185373067855835. Accuracy: 90.35532994923858\n",
            "Epoch:  96\n",
            "Epoch:  97\n",
            "Epoch:  98\n",
            "Epoch:  99\n",
            "Epoch:  100\n",
            "Iteration: 11000. Loss: 0.00882173702120781. Accuracy: 90.98984771573605\n",
            "Epoch:  101\n",
            "Epoch:  102\n",
            "Epoch:  103\n",
            "Epoch:  104\n",
            "Iteration: 11500. Loss: 0.030472325161099434. Accuracy: 90.38071065989848\n",
            "Epoch:  105\n",
            "Epoch:  106\n",
            "Epoch:  107\n",
            "Epoch:  108\n",
            "Epoch:  109\n",
            "Iteration: 12000. Loss: 0.01375720277428627. Accuracy: 90.68527918781726\n",
            "Epoch:  110\n",
            "Epoch:  111\n",
            "Epoch:  112\n",
            "Epoch:  113\n",
            "Iteration: 12500. Loss: 0.009963889606297016. Accuracy: 90.55837563451777\n",
            "Epoch:  114\n",
            "Epoch:  115\n",
            "Epoch:  116\n",
            "Epoch:  117\n",
            "Epoch:  118\n",
            "Iteration: 13000. Loss: 0.05724349617958069. Accuracy: 90.88832487309645\n",
            "Epoch:  119\n",
            "Epoch:  120\n",
            "Epoch:  121\n",
            "Epoch:  122\n",
            "Iteration: 13500. Loss: 0.06151114031672478. Accuracy: 91.09137055837563\n",
            "Epoch:  123\n",
            "Epoch:  124\n",
            "Epoch:  125\n",
            "Epoch:  126\n",
            "Epoch:  127\n",
            "Iteration: 14000. Loss: 0.01586131751537323. Accuracy: 90.60913705583756\n",
            "Epoch:  128\n",
            "Epoch:  129\n",
            "Epoch:  130\n",
            "Epoch:  131\n",
            "Iteration: 14500. Loss: 0.009729638695716858. Accuracy: 90.40609137055837\n",
            "Epoch:  132\n",
            "Epoch:  133\n",
            "Epoch:  134\n",
            "Epoch:  135\n",
            "Epoch:  136\n",
            "Iteration: 15000. Loss: 0.012226930819451809. Accuracy: 91.11675126903553\n",
            "Epoch:  137\n",
            "Epoch:  138\n",
            "Epoch:  139\n",
            "Epoch:  140\n",
            "Iteration: 15500. Loss: 0.006012659054249525. Accuracy: 90.96446700507614\n",
            "Epoch:  141\n",
            "Epoch:  142\n",
            "Epoch:  143\n",
            "Epoch:  144\n"
          ]
        }
      ]
    },
    {
      "cell_type": "code",
      "metadata": {
        "id": "IVLskgHZUFTX",
        "colab": {
          "base_uri": "https://localhost:8080/",
          "height": 317
        },
        "outputId": "1219df7b-7ed0-439e-c676-bcfc9ed206cf"
      },
      "source": [
        "print (iteration_loss)\n",
        "plt.plot(iteration_loss)\n",
        "plt.ylabel('Loss')\n",
        "plt.xlabel('Iteration')\n",
        "plt.show()"
      ],
      "execution_count": null,
      "outputs": [
        {
          "output_type": "stream",
          "name": "stdout",
          "text": [
            "[1.3280398845672607, 0.7416069507598877, 0.6250741481781006, 0.35897165536880493, 0.29209837317466736, 0.30761244893074036, 0.2073519229888916, 0.23233045637607574, 0.14154432713985443, 0.13551421463489532, 0.07751485705375671, 0.047529187053442, 0.06583356112241745, 0.07352792471647263, 0.04051690548658371, 0.04896106943488121, 0.11944548040628433, 0.05169488117098808, 0.018993869423866272, 0.006535348016768694, 0.016185373067855835, 0.00882173702120781, 0.030472325161099434, 0.01375720277428627, 0.009963889606297016, 0.05724349617958069, 0.06151114031672478, 0.01586131751537323, 0.009729638695716858, 0.012226930819451809, 0.006012659054249525]\n"
          ]
        },
        {
          "output_type": "display_data",
          "data": {
            "image/png": "[encoded data removed]",
            "text/plain": [
              "<Figure size 432x288 with 1 Axes>"
            ]
          },
          "metadata": {
            "needs_background": "light"
          }
        }
      ]
    },
    {
      "cell_type": "code",
      "metadata": {
        "id": "l463iJlNiWfk"
      },
      "source": [
        ""
      ],
      "execution_count": null,
      "outputs": []
    }
  ]
}